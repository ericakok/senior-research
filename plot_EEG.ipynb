{
 "cells": [
  {
   "cell_type": "code",
   "execution_count": 1,
   "metadata": {},
   "outputs": [],
   "source": [
    "%matplotlib inline"
   ]
  },
  {
   "cell_type": "markdown",
   "metadata": {},
   "source": [
    "\n",
    "# Epilepsy Detection Using EEG Data\n",
    "\n",
    "\n",
    "In this example we'll use the |cesium|_ library to compare\n",
    "various techniques for epilepsy detection using a classic EEG time series dataset from\n",
    "`Andrzejak et al.  <http://www.meb.uni-bonn.de/epileptologie/science/physik/eegdata.html>`_.\n",
    "The raw data are separated into five classes: Z, O, N, F, and S; we will consider a\n",
    "three-class classification problem of distinguishing normal (Z, O), interictal (N, F), and\n",
    "ictal (S) signals.\n",
    "\n",
    "The overall workflow consists of three steps: first, we \"featurize\" the time series by\n",
    "selecting some set of mathematical functions to apply to each; next, we build some\n",
    "classification models which use these features to distinguish between classes;\n",
    "finally, we validate our models by generating predictions for some unseen\n",
    "holdout set and comparing them to the true class labels.\n",
    "\n",
    "First, we'll load the data and inspect a representative time series from each class:\n",
    "\n",
    ".. |cesium| replace:: ``cesium``\n",
    "\n"
   ]
  },
  {
   "cell_type": "code",
   "execution_count": 2,
   "metadata": {},
   "outputs": [
    {
     "name": "stderr",
     "output_type": "stream",
     "text": [
      "Loaded data from cached archive.\n"
     ]
    },
    {
     "data": {
      "image/png": "[encoded data removed]",
      "text/plain": [
       "<Figure size 432x288 with 3 Axes>"
      ]
     },
     "metadata": {},
     "output_type": "display_data"
    }
   ],
   "source": [
    "import numpy as np\n",
    "import matplotlib.pyplot as plt\n",
    "import pandas as pd\n",
    "\n",
    "# Seaborn for plotting and styling\n",
    "import seaborn; seaborn.set()\n",
    "\n",
    "from cesium import datasets\n",
    "\n",
    "eeg = datasets.fetch_andrzejak()\n",
    "\n",
    "#eeg = '/EricaKok/senior-research/extracted-data/'\n",
    "\n",
    "# Group together classes (Z, O), (N, F), (S) as normal, interictal, ictal\n",
    "eeg[\"classes\"] = eeg[\"classes\"].astype(\"U16\") #  allocate memory for longer class names\n",
    "eeg[\"classes\"][np.logical_or(eeg[\"classes\"]==\"Z\", eeg[\"classes\"]==\"O\")] = \"Normal\"\n",
    "eeg[\"classes\"][np.logical_or(eeg[\"classes\"]==\"N\", eeg[\"classes\"]==\"F\")] = \"Interictal\"\n",
    "eeg[\"classes\"][eeg[\"classes\"]==\"S\"] = \"Ictal\"\n",
    "\n",
    "fig, ax = plt.subplots(1, len(np.unique(eeg[\"classes\"])), sharey=True)\n",
    "for label, subplot in zip(np.unique(eeg[\"classes\"]), ax):\n",
    "    i = np.where(eeg[\"classes\"] == label)[0][0]\n",
    "    subplot.plot(eeg[\"times\"][i], eeg[\"measurements\"][i])\n",
    "    subplot.set(xlabel=\"time (s)\", ylabel=\"signal\", title=label)"
   ]
  },
  {
   "cell_type": "markdown",
   "metadata": {},
   "source": [
    "Featurization\n",
    "-------------\n",
    "Once the data is loaded, we can generate features for each time series using the\n",
    "|cesium.featurize|_ module. The ``featurize`` module includes many built-in\n",
    "choices of features which can be applied for any type of time series data;\n",
    "here we've chosen a few generic features that do not have any special\n",
    "biological significance.\n",
    "\n",
    "By default, the time series will featurized in parallel using the\n",
    "``dask.threaded`` scheduler; other approaches, including serial and\n",
    "distributed approaches, can be implemented by passing in other ``dask``\n",
    "schedulers as the ``get`` argument to ``featurize_time_series``.\n",
    "\n",
    ".. |cesium.featurize| replace:: ``cesium.featurize``\n",
    "\n"
   ]
  },
  {
   "cell_type": "code",
   "execution_count": 4,
   "metadata": {},
   "outputs": [
    {
     "name": "stdout",
     "output_type": "stream",
     "text": [
      "feature amplitude percent_beyond_1_std maximum     max_slope median  \\\n",
      "channel         0                    0       0             0      0   \n",
      "0           143.5             0.327313   141.0  11107.796610   -4.0   \n",
      "1           211.5             0.290212   169.0  20653.559322  -51.0   \n",
      "2           165.0             0.302660   184.0  13537.627119   13.0   \n",
      "3           171.5             0.300952   162.0  17008.813559   -4.0   \n",
      "4           170.0             0.305101   152.0  13016.949153  -18.0   \n",
      "\n",
      "feature median_absolute_deviation percent_close_to_median minimum      skew  \\\n",
      "channel                         0                       0       0         0   \n",
      "0                            28.0                0.505004  -146.0  0.032805   \n",
      "1                            32.0                0.640469  -254.0 -0.092715   \n",
      "2                            31.0                0.515987  -146.0 -0.004100   \n",
      "3                            31.0                0.541128  -181.0  0.063678   \n",
      "4                            29.0                0.566268  -188.0  0.142753   \n",
      "\n",
      "feature        std weighted_average  \n",
      "channel          0                0  \n",
      "0        40.411000        -4.132048  \n",
      "1        48.812668       -52.444716  \n",
      "2        47.144789        12.705150  \n",
      "3        47.072316        -3.992433  \n",
      "4        44.910958       -17.999268  \n"
     ]
    }
   ],
   "source": [
    "import warnings\n",
    "warnings.filterwarnings('ignore')\n",
    "\n",
    "from cesium import featurize\n",
    "features_to_use = [\"amplitude\",\n",
    "                   \"percent_beyond_1_std\",\n",
    "                   \"maximum\",\n",
    "                   \"max_slope\",\n",
    "                   \"median\",\n",
    "                   \"median_absolute_deviation\",\n",
    "                   \"percent_close_to_median\",\n",
    "                   \"minimum\",\n",
    "                   \"skew\",\n",
    "                   \"std\",\n",
    "                   \"weighted_average\"]\n",
    "fset_cesium = featurize.featurize_time_series(times=eeg[\"times\"],\n",
    "                                              values=eeg[\"measurements\"],\n",
    "                                              errors=None,\n",
    "                                              features_to_use=features_to_use)\n",
    "print(fset_cesium.head())"
   ]
  },
  {
   "cell_type": "markdown",
   "metadata": {},
   "source": [
    "The output of ``featurize_time_series`` is a ``pandas.DataFrame`` which contains all\n",
    "the feature information needed to train a machine learning model: feature\n",
    "names are stored as column indices (as well as channel numbers, as we'll see\n",
    "later for multi-channel data), and the time series index/class label are\n",
    "stored as row indices.\n",
    "\n"
   ]
  },
  {
   "cell_type": "markdown",
   "metadata": {},
   "source": [
    "Custom feature functions\n",
    "~~~~~~~~~~~~~~~~~~~~~~~~\n",
    "Custom feature functions not built into ``cesium`` may be passed in using the\n",
    "``custom_functions`` keyword, either as a dictionary ``{feature_name: function}``, or as a\n",
    "`dask graph <http://dask.pydata.org/en/latest/custom-graphs.html>`_. Functions should take\n",
    "three arrays ``times, measurements, errors`` as inputs; details can be found in the\n",
    "``cesium.featurize``\n",
    "`documentation <http://cesium-ml.org/docs/api/cesium.featurize.html>`_.\n",
    "Here we'll compute five standard features for EEG analysis provided by\n",
    "`Guo et al. (2012) <http://linkinghub.elsevier.com/retrieve/pii/S0957417411003253)>`_:\n",
    "\n"
   ]
  },
  {
   "cell_type": "code",
   "execution_count": 5,
   "metadata": {},
   "outputs": [],
   "source": [
    "import numpy as np\n",
    "import scipy.stats\n",
    "\n",
    "def mean_signal(t, m, e):\n",
    "    return np.mean(m)\n",
    "\n",
    "def std_signal(t, m, e):\n",
    "    return np.std(m)\n",
    "\n",
    "def mean_square_signal(t, m, e):\n",
    "    return np.mean(m ** 2)\n",
    "\n",
    "def abs_diffs_signal(t, m, e):\n",
    "    return np.sum(np.abs(np.diff(m)))\n",
    "\n",
    "def skew_signal(t, m, e):\n",
    "    return scipy.stats.skew(m)"
   ]
  },
  {
   "cell_type": "markdown",
   "metadata": {},
   "source": [
    "Now we'll pass the desired feature functions as a dictionary via the\n",
    "``custom_functions`` keyword argument.\n",
    "\n"
   ]
  },
  {
   "cell_type": "code",
   "execution_count": 6,
   "metadata": {},
   "outputs": [
    {
     "name": "stdout",
     "output_type": "stream",
     "text": [
      "feature       mean        std        mean2 abs_diffs      skew\n",
      "channel          0          0            0         0         0\n",
      "0        -4.132048  40.411000  1650.122773   46948.0  0.032805\n",
      "1       -52.444716  48.812668  5133.124725   61118.0 -0.092715\n",
      "2        12.705150  47.144789  2384.051989   51269.0 -0.004100\n",
      "3        -3.992433  47.072316  2231.742495   75014.0  0.063678\n",
      "4       -17.999268  44.910958  2340.967781   52873.0  0.142753\n"
     ]
    }
   ],
   "source": [
    "guo_features = {\n",
    "    \"mean\": mean_signal,\n",
    "    \"std\": std_signal,\n",
    "    \"mean2\": mean_square_signal,\n",
    "    \"abs_diffs\": abs_diffs_signal,\n",
    "    \"skew\": skew_signal\n",
    "}\n",
    "\n",
    "fset_guo = featurize.featurize_time_series(times=eeg[\"times\"], values=eeg[\"measurements\"],\n",
    "                                           errors=None,\n",
    "                                           features_to_use=list(guo_features.keys()),\n",
    "                                           custom_functions=guo_features)\n",
    "print(fset_guo.head())"
   ]
  },
  {
   "cell_type": "markdown",
   "metadata": {},
   "source": [
    "Multi-channel time series\n",
    "~~~~~~~~~~~~~~~~~~~~~~~~~\n",
    "The EEG time series considered here consist of univariate signal measurements along a\n",
    "uniform time grid. But ``featurize_time_series`` also accepts multi-channel\n",
    "data; to demonstrate this, we will decompose each signal into five frequency\n",
    "bands using a discrete wavelet transform as suggested by\n",
    "`Subasi (2005) <http://www.sciencedirect.com/science/article/pii/S0957417404001745>`_,\n",
    "and then featurize each band separately using the five functions from above.\n",
    "\n"
   ]
  },
  {
   "cell_type": "code",
   "execution_count": 7,
   "metadata": {},
   "outputs": [
    {
     "name": "stdout",
     "output_type": "stream",
     "text": [
      "feature        mean                                                 std  \\\n",
      "channel           0         1         2         3         4           0   \n",
      "0        -17.080739 -6.067121 -0.979336  0.154634  0.035545  112.473774   \n",
      "1       -210.210117 -3.743191  0.511377  0.057561 -0.024847  119.836067   \n",
      "2         51.831712  0.714981  0.247418 -0.101951  0.007937  134.809626   \n",
      "3        -15.429961  9.348249 -0.099243 -0.228293  0.181522  104.420503   \n",
      "4        -71.982490 -3.787938 -0.183324 -0.034146 -0.048314  124.012203   \n",
      "\n",
      "feature                                                ...    abs_diffs  \\\n",
      "channel          1          2          3          4    ...            0   \n",
      "0        72.970862  48.167301  25.774846  10.154899    ...     25127.00   \n",
      "1        92.777487  67.005780  33.957464  13.673398    ...     28742.00   \n",
      "2        78.294247  60.275759  28.088980  11.246134    ...     28284.75   \n",
      "3        89.999242  67.249397  35.929621  16.366747    ...     24848.25   \n",
      "4        73.870175  59.986686  27.599723  11.655378    ...     23848.25   \n",
      "\n",
      "feature                                                     skew            \\\n",
      "channel         1             2        3             4         0         1   \n",
      "0        18056.00  32408.117995  34239.0  19883.842687 -0.043301  0.065784   \n",
      "1        25226.00  44392.163723  45330.5  26138.909273 -0.286254 -0.016437   \n",
      "2        19826.25  42874.712570  36283.0  21020.163284  0.042923 -0.121195   \n",
      "3        25715.25  43004.466665  47952.0  34686.416044  0.177416  0.214529   \n",
      "4        18328.75  39809.051121  35455.5  22640.144920  0.220502 -0.077603   \n",
      "\n",
      "feature                                \n",
      "channel         2         3         4  \n",
      "0        0.299892  0.123948  0.117937  \n",
      "1        0.168179 -0.005521  0.187815  \n",
      "2       -0.254241 -0.061304 -0.136422  \n",
      "3       -0.013705 -0.007339  0.013836  \n",
      "4        0.285906  0.087555  0.066677  \n",
      "\n",
      "[5 rows x 25 columns]\n"
     ]
    }
   ],
   "source": [
    "import pywt\n",
    "\n",
    "n_channels = 5\n",
    "eeg[\"dwts\"] = [pywt.wavedec(m, pywt.Wavelet(\"db1\"), level=n_channels-1)\n",
    "               for m in eeg[\"measurements\"]]\n",
    "fset_dwt = featurize.featurize_time_series(times=None, values=eeg[\"dwts\"], errors=None,\n",
    "                                           features_to_use=list(guo_features.keys()),\n",
    "                                           custom_functions=guo_features)\n",
    "print(fset_dwt.head())"
   ]
  },
  {
   "cell_type": "markdown",
   "metadata": {},
   "source": [
    "The output featureset has the same form as before, except now the ``channel``\n",
    "component of the column index is used to index the features by the\n",
    "corresponding frequency band.\n",
    "\n"
   ]
  },
  {
   "cell_type": "markdown",
   "metadata": {},
   "source": [
    "Model Building\n",
    "--------------\n",
    "Featuresets produced by ``cesium.featurize`` are compatible with the ``scikit-learn``\n",
    "API. For this example, we'll test a random forest classifier for the\n",
    "built-in ``cesium`` features, and a 3-nearest neighbors classifier for the\n",
    "others, as suggested by\n",
    "`Guo et al. (2012) <http://linkinghub.elsevier.com/retrieve/pii/S0957417411003253>`_.\n",
    "\n"
   ]
  },
  {
   "cell_type": "code",
   "execution_count": 8,
   "metadata": {},
   "outputs": [
    {
     "data": {
      "text/plain": [
       "KNeighborsClassifier(algorithm='auto', leaf_size=30, metric='minkowski',\n",
       "           metric_params=None, n_jobs=1, n_neighbors=3, p=2,\n",
       "           weights='uniform')"
      ]
     },
     "execution_count": 8,
     "metadata": {},
     "output_type": "execute_result"
    }
   ],
   "source": [
    "from sklearn.ensemble import RandomForestClassifier\n",
    "from sklearn.neighbors import KNeighborsClassifier\n",
    "from sklearn.model_selection import train_test_split\n",
    "\n",
    "train, test = train_test_split(np.arange(len(eeg[\"classes\"])), random_state=0)\n",
    "\n",
    "model_cesium = RandomForestClassifier(n_estimators=128, max_features=\"auto\",\n",
    "                                      random_state=0)\n",
    "model_cesium.fit(fset_cesium.iloc[train], eeg[\"classes\"][train])\n",
    "\n",
    "model_guo = KNeighborsClassifier(3)\n",
    "model_guo.fit(fset_guo.iloc[train], eeg[\"classes\"][train])\n",
    "\n",
    "model_dwt = KNeighborsClassifier(3)\n",
    "model_dwt.fit(fset_dwt.iloc[train], eeg[\"classes\"][train])"
   ]
  },
  {
   "cell_type": "markdown",
   "metadata": {},
   "source": [
    "Prediction\n",
    "----------\n",
    "Making predictions for new time series based on these models follows the same\n",
    "pattern: first the time series are featurized using ``featurize_time_series``,\n",
    "and then predictions are made based on these features using the ``predict``\n",
    "method of the ``scikit-learn`` model.\n",
    "\n"
   ]
  },
  {
   "cell_type": "code",
   "execution_count": 9,
   "metadata": {},
   "outputs": [
    {
     "name": "stdout",
     "output_type": "stream",
     "text": [
      "Built-in cesium features: training accuracy=100.00%, test accuracy=83.20%\n",
      "Guo et al. features: training accuracy=92.80%, test accuracy=83.20%\n",
      "Wavelet transform features: training accuracy=97.87%, test accuracy=95.20%\n"
     ]
    }
   ],
   "source": [
    "from sklearn.metrics import accuracy_score\n",
    "\n",
    "preds_cesium = model_cesium.predict(fset_cesium)\n",
    "preds_guo = model_guo.predict(fset_guo)\n",
    "preds_dwt = model_dwt.predict(fset_dwt)\n",
    "\n",
    "print(\"Built-in cesium features: training accuracy={:.2%}, test accuracy={:.2%}\".format(\n",
    "          accuracy_score(preds_cesium[train], eeg[\"classes\"][train]),\n",
    "          accuracy_score(preds_cesium[test], eeg[\"classes\"][test])))\n",
    "print(\"Guo et al. features: training accuracy={:.2%}, test accuracy={:.2%}\".format(\n",
    "          accuracy_score(preds_guo[train], eeg[\"classes\"][train]),\n",
    "          accuracy_score(preds_guo[test], eeg[\"classes\"][test])))\n",
    "print(\"Wavelet transform features: training accuracy={:.2%}, test accuracy={:.2%}\".format(\n",
    "          accuracy_score(preds_dwt[train], eeg[\"classes\"][train]),\n",
    "          accuracy_score(preds_dwt[test], eeg[\"classes\"][test])))"
   ]
  },
  {
   "cell_type": "markdown",
   "metadata": {},
   "source": [
    "The workflow presented here is intentionally simplistic and omits many important steps\n",
    "such as feature selection, model parameter selection, etc., which may all be\n",
    "incorporated just as they would for any other ``scikit-learn`` analysis.\n",
    "But with essentially three function calls (``featurize_time_series``,\n",
    "``model.fit``, and ``model.predict``), we are able to build a\n",
    "model from a set of time series and make predictions on new, unlabeled data. In\n",
    "upcoming posts we'll introduce the web frontend for ``cesium`` and describe how\n",
    "the same analysis can be performed in a browser with no setup or coding required.\n",
    "\n"
   ]
  }
 ],
 "metadata": {
  "kernelspec": {
   "display_name": "Python 3",
   "language": "python",
   "name": "python3"
  },
  "language_info": {
   "codemirror_mode": {
    "name": "ipython",
    "version": 3
   },
   "file_extension": ".py",
   "mimetype": "text/x-python",
   "name": "python",
   "nbconvert_exporter": "python",
   "pygments_lexer": "ipython3",
   "version": "3.7.0"
  }
 },
 "nbformat": 4,
 "nbformat_minor": 1
}
