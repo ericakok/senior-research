{
 "cells": [
  {
   "cell_type": "code",
   "execution_count": 70,
   "metadata": {},
   "outputs": [],
   "source": [
    "import pandas as pd \n",
    "  \n",
    "# intialise data of lists. \n",
    "data = {'id':[1, 1, 1, 1, 1,2,2,2,2,2], 'time':[0, 1, 2, 3, 4,5,6,7,8,9], 'F_x':[-1,0,-1,-1,-1,-1,0,-1,-1,-1], 'F_y':[-1,0,-1,-1,-1,-1,0,-1,-1,-1], 'F_z':[63,62,61,63,63,63,62,61,63,63], 'T_x':[-3,-3,-3,-2,-3,-3,-3,-3,-2,-3], 'T_y':[-1,-1,0,-1,-1,-1,-1,0,-1,-1], 'T_z':[0,0,0,0,0,0,0,0,0,0]} \n",
    "\n",
    "\n",
    "# Create DataFrame \n",
    "timeseries = pd.DataFrame(data) \n",
    "  \n",
    "# Print the output. \n",
    "print(timeseries)"
   ]
  },
  {
   "cell_type": "code",
   "execution_count": 54,
   "metadata": {},
   "outputs": [
    {
     "name": "stdout",
     "output_type": "stream",
     "text": [
      "1    0\n",
      "2    1\n",
      "dtype: int64\n"
     ]
    }
   ],
   "source": [
    "# import numpy as np\n",
    "# y = [[1, 0], [2, 0], [3,0], [4,0], [5,0]]\n",
    "\n",
    "# y = np.array(y)\n",
    "\n",
    "import pandas as pd\n",
    "import numpy as np\n",
    "data = np.array([0,1])\n",
    "y = pd.Series(data,index=[1,2])\n",
    "print(y)\n"
   ]
  },
  {
   "cell_type": "code",
   "execution_count": 55,
   "metadata": {},
   "outputs": [
    {
     "name": "stderr",
     "output_type": "stream",
     "text": [
      "Feature Extraction: 100%|██████████| 12/12 [00:00<00:00, 54.00it/s]\n"
     ]
    }
   ],
   "source": [
    "from tsfresh import extract_features\n",
    "extracted_features = extract_features(timeseries, column_id=\"id\", column_sort=\"time\")"
   ]
  },
  {
   "cell_type": "code",
   "execution_count": 56,
   "metadata": {},
   "outputs": [
    {
     "data": {
      "text/html": [
       "<div>\n",
       "<style scoped>\n",
       "    .dataframe tbody tr th:only-of-type {\n",
       "        vertical-align: middle;\n",
       "    }\n",
       "\n",
       "    .dataframe tbody tr th {\n",
       "        vertical-align: top;\n",
       "    }\n",
       "\n",
       "    .dataframe thead th {\n",
       "        text-align: right;\n",
       "    }\n",
       "</style>\n",
       "<table border=\"1\" class=\"dataframe\">\n",
       "  <thead>\n",
       "    <tr style=\"text-align: right;\">\n",
       "      <th>variable</th>\n",
       "      <th>F_x__abs_energy</th>\n",
       "      <th>F_x__absolute_sum_of_changes</th>\n",
       "      <th>F_x__agg_autocorrelation__f_agg_\"mean\"__maxlag_40</th>\n",
       "      <th>F_x__agg_autocorrelation__f_agg_\"median\"__maxlag_40</th>\n",
       "      <th>F_x__agg_autocorrelation__f_agg_\"var\"__maxlag_40</th>\n",
       "      <th>F_x__agg_linear_trend__f_agg_\"max\"__chunk_len_10__attr_\"intercept\"</th>\n",
       "      <th>F_x__agg_linear_trend__f_agg_\"max\"__chunk_len_10__attr_\"rvalue\"</th>\n",
       "      <th>F_x__agg_linear_trend__f_agg_\"max\"__chunk_len_10__attr_\"slope\"</th>\n",
       "      <th>F_x__agg_linear_trend__f_agg_\"max\"__chunk_len_10__attr_\"stderr\"</th>\n",
       "      <th>F_x__agg_linear_trend__f_agg_\"max\"__chunk_len_50__attr_\"intercept\"</th>\n",
       "      <th>...</th>\n",
       "      <th>T_z__symmetry_looking__r_0.9</th>\n",
       "      <th>T_z__symmetry_looking__r_0.9500000000000001</th>\n",
       "      <th>T_z__time_reversal_asymmetry_statistic__lag_1</th>\n",
       "      <th>T_z__time_reversal_asymmetry_statistic__lag_2</th>\n",
       "      <th>T_z__time_reversal_asymmetry_statistic__lag_3</th>\n",
       "      <th>T_z__value_count__value_-1</th>\n",
       "      <th>T_z__value_count__value_0</th>\n",
       "      <th>T_z__value_count__value_1</th>\n",
       "      <th>T_z__variance</th>\n",
       "      <th>T_z__variance_larger_than_standard_deviation</th>\n",
       "    </tr>\n",
       "    <tr>\n",
       "      <th>id</th>\n",
       "      <th></th>\n",
       "      <th></th>\n",
       "      <th></th>\n",
       "      <th></th>\n",
       "      <th></th>\n",
       "      <th></th>\n",
       "      <th></th>\n",
       "      <th></th>\n",
       "      <th></th>\n",
       "      <th></th>\n",
       "      <th></th>\n",
       "      <th></th>\n",
       "      <th></th>\n",
       "      <th></th>\n",
       "      <th></th>\n",
       "      <th></th>\n",
       "      <th></th>\n",
       "      <th></th>\n",
       "      <th></th>\n",
       "      <th></th>\n",
       "      <th></th>\n",
       "    </tr>\n",
       "  </thead>\n",
       "  <tbody>\n",
       "    <tr>\n",
       "      <th>1</th>\n",
       "      <td>4.0</td>\n",
       "      <td>2.0</td>\n",
       "      <td>-0.166667</td>\n",
       "      <td>-0.270833</td>\n",
       "      <td>0.065104</td>\n",
       "      <td>NaN</td>\n",
       "      <td>NaN</td>\n",
       "      <td>NaN</td>\n",
       "      <td>NaN</td>\n",
       "      <td>NaN</td>\n",
       "      <td>...</td>\n",
       "      <td>0.0</td>\n",
       "      <td>0.0</td>\n",
       "      <td>0.0</td>\n",
       "      <td>0.0</td>\n",
       "      <td>0.0</td>\n",
       "      <td>0.0</td>\n",
       "      <td>5.0</td>\n",
       "      <td>0.0</td>\n",
       "      <td>0.0</td>\n",
       "      <td>0.0</td>\n",
       "    </tr>\n",
       "    <tr>\n",
       "      <th>2</th>\n",
       "      <td>4.0</td>\n",
       "      <td>2.0</td>\n",
       "      <td>-0.166667</td>\n",
       "      <td>-0.270833</td>\n",
       "      <td>0.065104</td>\n",
       "      <td>NaN</td>\n",
       "      <td>NaN</td>\n",
       "      <td>NaN</td>\n",
       "      <td>NaN</td>\n",
       "      <td>NaN</td>\n",
       "      <td>...</td>\n",
       "      <td>0.0</td>\n",
       "      <td>0.0</td>\n",
       "      <td>0.0</td>\n",
       "      <td>0.0</td>\n",
       "      <td>0.0</td>\n",
       "      <td>0.0</td>\n",
       "      <td>5.0</td>\n",
       "      <td>0.0</td>\n",
       "      <td>0.0</td>\n",
       "      <td>0.0</td>\n",
       "    </tr>\n",
       "  </tbody>\n",
       "</table>\n",
       "<p>2 rows × 4764 columns</p>\n",
       "</div>"
      ],
      "text/plain": [
       "variable  F_x__abs_energy  F_x__absolute_sum_of_changes  \\\n",
       "id                                                        \n",
       "1                     4.0                           2.0   \n",
       "2                     4.0                           2.0   \n",
       "\n",
       "variable  F_x__agg_autocorrelation__f_agg_\"mean\"__maxlag_40  \\\n",
       "id                                                            \n",
       "1                                                 -0.166667   \n",
       "2                                                 -0.166667   \n",
       "\n",
       "variable  F_x__agg_autocorrelation__f_agg_\"median\"__maxlag_40  \\\n",
       "id                                                              \n",
       "1                                                 -0.270833     \n",
       "2                                                 -0.270833     \n",
       "\n",
       "variable  F_x__agg_autocorrelation__f_agg_\"var\"__maxlag_40  \\\n",
       "id                                                           \n",
       "1                                                 0.065104   \n",
       "2                                                 0.065104   \n",
       "\n",
       "variable  F_x__agg_linear_trend__f_agg_\"max\"__chunk_len_10__attr_\"intercept\"  \\\n",
       "id                                                                             \n",
       "1                                                       NaN                    \n",
       "2                                                       NaN                    \n",
       "\n",
       "variable  F_x__agg_linear_trend__f_agg_\"max\"__chunk_len_10__attr_\"rvalue\"  \\\n",
       "id                                                                          \n",
       "1                                                       NaN                 \n",
       "2                                                       NaN                 \n",
       "\n",
       "variable  F_x__agg_linear_trend__f_agg_\"max\"__chunk_len_10__attr_\"slope\"  \\\n",
       "id                                                                         \n",
       "1                                                       NaN                \n",
       "2                                                       NaN                \n",
       "\n",
       "variable  F_x__agg_linear_trend__f_agg_\"max\"__chunk_len_10__attr_\"stderr\"  \\\n",
       "id                                                                          \n",
       "1                                                       NaN                 \n",
       "2                                                       NaN                 \n",
       "\n",
       "variable  F_x__agg_linear_trend__f_agg_\"max\"__chunk_len_50__attr_\"intercept\"  \\\n",
       "id                                                                             \n",
       "1                                                       NaN                    \n",
       "2                                                       NaN                    \n",
       "\n",
       "variable                      ...                       \\\n",
       "id                            ...                        \n",
       "1                             ...                        \n",
       "2                             ...                        \n",
       "\n",
       "variable  T_z__symmetry_looking__r_0.9  \\\n",
       "id                                       \n",
       "1                                  0.0   \n",
       "2                                  0.0   \n",
       "\n",
       "variable  T_z__symmetry_looking__r_0.9500000000000001  \\\n",
       "id                                                      \n",
       "1                                                 0.0   \n",
       "2                                                 0.0   \n",
       "\n",
       "variable  T_z__time_reversal_asymmetry_statistic__lag_1  \\\n",
       "id                                                        \n",
       "1                                                   0.0   \n",
       "2                                                   0.0   \n",
       "\n",
       "variable  T_z__time_reversal_asymmetry_statistic__lag_2  \\\n",
       "id                                                        \n",
       "1                                                   0.0   \n",
       "2                                                   0.0   \n",
       "\n",
       "variable  T_z__time_reversal_asymmetry_statistic__lag_3  \\\n",
       "id                                                        \n",
       "1                                                   0.0   \n",
       "2                                                   0.0   \n",
       "\n",
       "variable  T_z__value_count__value_-1  T_z__value_count__value_0  \\\n",
       "id                                                                \n",
       "1                                0.0                        5.0   \n",
       "2                                0.0                        5.0   \n",
       "\n",
       "variable  T_z__value_count__value_1  T_z__variance  \\\n",
       "id                                                   \n",
       "1                               0.0            0.0   \n",
       "2                               0.0            0.0   \n",
       "\n",
       "variable  T_z__variance_larger_than_standard_deviation  \n",
       "id                                                      \n",
       "1                                                  0.0  \n",
       "2                                                  0.0  \n",
       "\n",
       "[2 rows x 4764 columns]"
      ]
     },
     "execution_count": 56,
     "metadata": {},
     "output_type": "execute_result"
    }
   ],
   "source": [
    "extracted_features.head()"
   ]
  },
  {
   "cell_type": "code",
   "execution_count": 57,
   "metadata": {},
   "outputs": [
    {
     "data": {
      "text/plain": [
       "2"
      ]
     },
     "execution_count": 57,
     "metadata": {},
     "output_type": "execute_result"
    }
   ],
   "source": [
    "len(extracted_features)"
   ]
  },
  {
   "cell_type": "code",
   "execution_count": 58,
   "metadata": {},
   "outputs": [
    {
     "data": {
      "text/plain": [
       "2"
      ]
     },
     "execution_count": 58,
     "metadata": {},
     "output_type": "execute_result"
    }
   ],
   "source": [
    "len(y)"
   ]
  },
  {
   "cell_type": "code",
   "execution_count": 61,
   "metadata": {},
   "outputs": [],
   "source": [
    "import warnings\n",
    "warnings.filterwarnings('ignore')\n",
    "\n",
    "from tsfresh import select_features\n",
    "from tsfresh.utilities.dataframe_functions import impute\n",
    "\n",
    "impute(extracted_features)\n",
    "features_filtered = select_features(extracted_features, y)"
   ]
  },
  {
   "cell_type": "code",
   "execution_count": 63,
   "metadata": {},
   "outputs": [],
   "source": [
    "print(features_filtered)"
   ]
  },
  {
   "cell_type": "code",
   "execution_count": 62,
   "metadata": {},
   "outputs": [],
   "source": [
    "from tsfresh import extract_relevant_features\n",
    "\n",
    "features_filtered_direct = extract_relevant_features(timeseries, y,\n",
    "                                                     column_id='id', column_sort='time')"
   ]
  },
  {
   "cell_type": "code",
   "execution_count": 67,
   "metadata": {},
   "outputs": [],
   "source": [
    "print(features_filtered.size())"
   ]
  },
  {
   "cell_type": "code",
   "execution_count": null,
   "metadata": {},
   "outputs": [],
   "source": []
  }
 ],
 "metadata": {
  "kernelspec": {
   "display_name": "Python 3",
   "language": "python",
   "name": "python3"
  },
  "language_info": {
   "codemirror_mode": {
    "name": "ipython",
    "version": 3
   },
   "file_extension": ".py",
   "mimetype": "text/x-python",
   "name": "python",
   "nbconvert_exporter": "python",
   "pygments_lexer": "ipython3",
   "version": "3.7.0"
  }
 },
 "nbformat": 4,
 "nbformat_minor": 2
}
